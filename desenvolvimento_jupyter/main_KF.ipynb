{
 "cells": [
  {
   "cell_type": "code",
   "execution_count": 9,
   "metadata": {},
   "outputs": [],
   "source": [
    "import os, fucoes_extras #Funcoes de diretorio e funcoes extras\n",
    "from sklearn.model_selection import KFold #Importando KFold Cross Validation\n",
    "import pandas as pd #Importando o pandas (leitor e escritor de arquivos)\n",
    "from numpy import genfromtxt #Leitor de .csv e conversor p/ array numpy\n",
    "from os import listdir #Importando buscador de arquivos\n",
    "from machine_learn import svm_andre, rna_mlp #Importando SVM e RNA\n",
    "import statistics\n",
    "import numpy as np"
   ]
  },
  {
   "cell_type": "code",
   "execution_count": 10,
   "metadata": {},
   "outputs": [],
   "source": [
    "diretorio= os.getcwd()+\"/dados_csv/\" #Busca o diretorio automaticamente\n",
    "\n",
    "#Parametros p/ SVM\n",
    "C= 1.0\n",
    "gamma= 'scale'\n",
    "kernel= 'rbf'\n",
    "\n",
    "#Parametros p/ RNA\n",
    "max_iter=300\n",
    "hidden_layer_sizes= (100,) #Testar (50, 50) e (100, 100)\n",
    "learning_rate= 'constant'\n",
    "learning_rate_init= 0.01"
   ]
  },
  {
   "cell_type": "code",
   "execution_count": 11,
   "metadata": {},
   "outputs": [],
   "source": [
    "acur_RNA= []\n",
    "acur_SVM= []\n",
    "\n",
    "acurB_RNA= []\n",
    "acurB_SVM= []\n",
    "\n",
    "matrizC_RNA= []\n",
    "matrizC_SVM= []\n",
    "\n",
    "media_SVM= []\n",
    "des_SVM= []\n",
    "media_RNA= []\n",
    "des_RNA= []\n",
    "\n",
    "mediaB_SVM= []\n",
    "desB_SVM= []\n",
    "mediaB_RNA= []\n",
    "desB_RNA= []\n",
    "\n",
    "matrizC_R= []\n",
    "matrizC_S= []\n",
    "\n",
    "extractor_name= []"
   ]
  },
  {
   "cell_type": "code",
   "execution_count": 12,
   "metadata": {},
   "outputs": [],
   "source": [
    "KF= KFold(n_splits=10, random_state=13, shuffle=True) #(n_folds, semente, ordenacao)\n",
    "\n",
    "for nome in listdir(diretorio):\n",
    "    dados= genfromtxt((diretorio+nome), delimiter=',',skip_header=1)\n",
    "\n",
    "    classCol = dados.shape[1] - 1\n",
    "    y = dados[:,classCol]\n",
    "    x = dados[:, :(classCol-1)]\n",
    "    \n",
    "    KF_data = pd.DataFrame(KF.split(x)) #Lendo os valores p/ exportacao em .csv\n",
    "    KF_data.to_csv('kfolds_data.csv') #Salvando em .csv\n",
    "    \n",
    "    for train_index, test_index in KF.split(x):\n",
    "        x_train, x_test = x[train_index], x[test_index]\n",
    "        y_train, y_test = y[train_index], y[test_index]\n",
    "        \n",
    "        #Treinando e avaliando o desempenho da SVM\n",
    "        S= svm_andre.SVM(x_train, y_train, x_test, y_test, C, gamma, kernel)\n",
    "        acur_SVM.append(S[0]) #Lista de acuracias de todos os folds\n",
    "        acurB_SVM.append(S[1]) #Lista de acuracias balanceadas de todos os folds\n",
    "        matrizC_SVM.append(S[2]) #Lista de matrizes de confusao de todos os folds\n",
    "        \n",
    "        #Treinando e avaliando o desempenho da RNA\n",
    "        R= rna_mlp.RNAs(x_train, y_train, x_test, y_test, learning_rate_init,\n",
    "                        learning_rate, hidden_layer_sizes, max_iter)\n",
    "        acur_RNA.append(R[0]) #Lista de acuracias de todos os folds\n",
    "        acurB_RNA.append(R[1]) #Lista de acuracias balanceadas de todos os folds\n",
    "        matrizC_RNA.append(R[2]) #Lista de matrizes de confusao de todos os folds\n",
    "    \n",
    "    media_SVM.append(statistics.mean(acur_SVM))\n",
    "    des_SVM.append(statistics.stdev(acur_SVM))\n",
    "    media_RNA.append(statistics.mean(acur_RNA))\n",
    "    des_RNA.append(statistics.stdev(acur_RNA))\n",
    "    \n",
    "    mediaB_SVM.append(statistics.mean(acurB_SVM))\n",
    "    desB_SVM.append(statistics.stdev(acurB_SVM))\n",
    "    mediaB_RNA.append(statistics.mean(acurB_RNA))\n",
    "    desB_RNA.append(statistics.stdev(acurB_RNA))\n",
    "    \n",
    "    matrizC_S.append(np.sum(matrizC_SVM, axis=0))\n",
    "    matrizC_R.append(np.sum(matrizC_RNA, axis=0))\n",
    "    \n",
    "    extractor_name.append(nome[:-4])"
   ]
  },
  {
   "cell_type": "code",
   "execution_count": 35,
   "metadata": {},
   "outputs": [
    {
     "name": "stdout",
     "output_type": "stream",
     "text": [
      "\u001b[1mMatrizes de confusao\u001b[0m\n",
      "\n",
      "\u001b[1m___glcm\u001b[0m \n",
      "\n",
      "SVM\n",
      "144\t0\t0\n",
      "0\t177\t0\n",
      "0\t7\t46\n",
      "\n",
      "RNA\n",
      "144\t0\t0\n",
      "1\t163\t13\n",
      "0\t30\t23\n",
      "\n",
      "\u001b[1m___hog 3cells\u001b[0m \n",
      "\n",
      "SVM\n",
      "288\t0\t0\n",
      "1\t352\t1\n",
      "0\t8\t98\n",
      "\n",
      "RNA\n",
      "285\t3\t0\n",
      "3\t330\t21\n",
      "0\t33\t73\n",
      "\n",
      "\u001b[1m___lbp\u001b[0m \n",
      "\n",
      "SVM\n",
      "432\t0\t0\n",
      "2\t527\t2\n",
      "0\t9\t150\n",
      "\n",
      "RNA\n",
      "422\t10\t0\n",
      "19\t426\t86\n",
      "0\t52\t107\n",
      "\n",
      "\u001b[1m___hog\u001b[0m \n",
      "\n",
      "SVM\n",
      "576\t0\t0\n",
      "3\t702\t3\n",
      "0\t10\t202\n",
      "\n",
      "RNA\n",
      "565\t11\t0\n",
      "19\t598\t91\n",
      "0\t54\t158\n",
      "\n",
      "\u001b[1m___glcm e hog\u001b[0m \n",
      "\n",
      "SVM\n",
      "720\t0\t0\n",
      "3\t879\t3\n",
      "0\t17\t248\n",
      "\n",
      "RNA\n",
      "709\t11\t0\n",
      "19\t770\t96\n",
      "0\t58\t207\n",
      "\n"
     ]
    }
   ],
   "source": [
    "print(\"\\033[1mMatrizes de confusao\\033[0m\\n\")\n",
    "\n",
    "for i in range(0,len(extractor_name)):\n",
    "    print('\\033[1m___'+extractor_name[i]+'\\033[0m', \"\\n\\nSVM\")\n",
    "    fucoes_extras.imprime_matriz(matrizC_S[i])\n",
    "    print(\"RNA\")\n",
    "    fucoes_extras.imprime_matriz(matrizC_R[i])"
   ]
  },
  {
   "cell_type": "code",
   "execution_count": 14,
   "metadata": {},
   "outputs": [
    {
     "data": {
      "image/png": "[encoded data removed]",
      "text/plain": [
       "<Figure size 432x288 with 1 Axes>"
      ]
     },
     "metadata": {
      "needs_background": "light"
     },
     "output_type": "display_data"
    },
    {
     "data": {
      "image/png": "[encoded data removed]",
      "text/plain": [
       "<Figure size 432x288 with 1 Axes>"
      ]
     },
     "metadata": {
      "needs_background": "light"
     },
     "output_type": "display_data"
    }
   ],
   "source": [
    "fucoes_extras.grafico(media_SVM, des_SVM, media_RNA, des_RNA, extractor_name, \"Acuracia\")\n",
    "fucoes_extras.grafico(mediaB_SVM, desB_SVM, mediaB_RNA, desB_RNA, extractor_name, \"Acuracia balanceada\")"
   ]
  }
 ],
 "metadata": {
  "kernelspec": {
   "display_name": "Python 3",
   "language": "python",
   "name": "python3"
  },
  "language_info": {
   "codemirror_mode": {
    "name": "ipython",
    "version": 3
   },
   "file_extension": ".py",
   "mimetype": "text/x-python",
   "name": "python",
   "nbconvert_exporter": "python",
   "pygments_lexer": "ipython3",
   "version": "3.7.1"
  }
 },
 "nbformat": 4,
 "nbformat_minor": 2
}
