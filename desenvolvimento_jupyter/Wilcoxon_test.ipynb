{
 "cells": [
  {
   "cell_type": "code",
   "execution_count": 1,
   "metadata": {},
   "outputs": [],
   "source": [
    "import pandas as pd\n",
    "from scipy.stats import wilcoxon\n",
    "import os"
   ]
  },
  {
   "cell_type": "code",
   "execution_count": 2,
   "metadata": {},
   "outputs": [
    {
     "name": "stdout",
     "output_type": "stream",
     "text": [
      "                 Unnamed: 0    fold_1    fold_2    fold_3    fold_4    fold_5  \\\n",
      "0                  GLCM.csv  0.867725  0.818627  0.750000  1.000000  0.733333   \n",
      "1       GLCM_HOG_2cells.csv  0.962963  1.000000  1.000000  0.785714  1.000000   \n",
      "2       GLCM_HOG_3cells.csv  0.962963  0.916667  1.000000  0.785714  1.000000   \n",
      "3            HOG_2cells.csv  0.939153  1.000000  1.000000  0.769841  1.000000   \n",
      "4            HOG_3cells.csv  0.915344  1.000000  1.000000  0.769841  1.000000   \n",
      "5                   LBP.csv  0.915344  0.627451  0.715507  0.787302  0.870370   \n",
      "6              LBP_GLCM.csv  0.888889  0.980392  0.750000  0.968254  0.733333   \n",
      "7   LBP_GLCM_HOG_2cells.csv  0.962963  1.000000  1.000000  0.801587  1.000000   \n",
      "8   LBP_GLCM_HOG_3cells.csv  0.851852  1.000000  0.916667  0.785714  1.000000   \n",
      "9        LBP_HOG_2cells.csv  0.952381  1.000000  1.000000  0.769841  1.000000   \n",
      "10       LBP_HOG_3cells.csv  0.915344  1.000000  1.000000  0.769841  1.000000   \n",
      "\n",
      "      fold_6    fold_7    fold_8    fold_9   fold_10  \n",
      "0   0.666667  0.714286  0.974359  0.966667  0.983333  \n",
      "1   0.986111  0.952381  0.952381  0.733333  1.000000  \n",
      "2   0.986111  0.932773  0.809524  0.733333  0.714286  \n",
      "3   0.986111  0.932773  0.952381  0.888889  1.000000  \n",
      "4   0.986111  0.932773  1.000000  0.905556  0.983333  \n",
      "5   0.633333  0.647059  0.825038  0.822222  0.766667  \n",
      "6   0.916667  0.761905  0.974359  0.733333  0.952381  \n",
      "7   0.986111  0.952381  0.952381  0.916667  1.000000  \n",
      "8   0.986111  0.932773  1.000000  0.983333  0.952381  \n",
      "9   0.986111  0.932773  0.952381  0.938889  1.000000  \n",
      "10  0.986111  0.932773  1.000000  0.933333  1.000000  \n"
     ]
    }
   ],
   "source": [
    "#data = pd.read_csv(os.getcwd()+\"/results/allFoldsBalancAcc.csv\")\n",
    "data = pd.read_csv(\"/home/alrossi/dados/GDrive/Research/codePython/imageClassification/results/allFoldsBalancAcc.csv\")\n",
    "print(data)"
   ]
  },
  {
   "cell_type": "code",
   "execution_count": 23,
   "metadata": {},
   "outputs": [],
   "source": [
    "aux1=data.iloc[0,1:].values.astype('float32')\n",
    "aux2=data.iloc[9,1:].values.astype('float32')"
   ]
  },
  {
   "cell_type": "code",
   "execution_count": 24,
   "metadata": {},
   "outputs": [],
   "source": [
    "stat, p = wilcoxon(aux1, aux2)"
   ]
  },
  {
   "cell_type": "code",
   "execution_count": 25,
   "metadata": {},
   "outputs": [
    {
     "name": "stdout",
     "output_type": "stream",
     "text": [
      "Statistics=12.000, p=0.114\n"
     ]
    }
   ],
   "source": [
    "print('Statistics=%.3f, p=%.3f' % (stat, p))"
   ]
  },
  {
   "cell_type": "code",
   "execution_count": 42,
   "metadata": {},
   "outputs": [
    {
     "data": {
      "text/plain": [
       "'GLCM'"
      ]
     },
     "execution_count": 42,
     "metadata": {},
     "output_type": "execute_result"
    }
   ],
   "source": [
    "data.iloc[0,0][:-4]"
   ]
  },
  {
   "cell_type": "code",
   "execution_count": 26,
   "metadata": {},
   "outputs": [
    {
     "name": "stdout",
     "output_type": "stream",
     "text": [
      "Same distribution (fail to reject H0)\n"
     ]
    }
   ],
   "source": [
    "# interpret\n",
    "alpha = 0.05\n",
    "if p > alpha:\n",
    "    print('Same distribution (fail to reject H0)')\n",
    "else:\n",
    "    print('Different distribution (reject H0)')"
   ]
  },
  {
   "cell_type": "code",
   "execution_count": 44,
   "metadata": {},
   "outputs": [
    {
     "name": "stdout",
     "output_type": "stream",
     "text": [
      "\n",
      " GLCM X GLCM_HOG_2cells\n",
      "Statistics=13.000, p=0.139\n",
      "Same distribution (fail to reject H0)\n",
      "\n",
      " GLCM X GLCM_HOG_3cells\n",
      "Statistics=22.000, p=0.575\n",
      "Same distribution (fail to reject H0)\n",
      "\n",
      " GLCM X HOG_2cells\n",
      "Statistics=13.000, p=0.139\n",
      "Same distribution (fail to reject H0)\n",
      "\n",
      " GLCM X HOG_3cells\n",
      "Statistics=9.000, p=0.110\n",
      "Same distribution (fail to reject H0)\n",
      "\n",
      " GLCM X LBP\n",
      "Statistics=8.000, p=0.047\n",
      "Different distribution (reject H0)\n",
      "\n",
      " GLCM X LBP_GLCM\n",
      "Statistics=11.000, p=0.612\n",
      "Same distribution (fail to reject H0)\n",
      "\n",
      " GLCM X LBP_GLCM_HOG_2cells\n",
      "Statistics=11.000, p=0.093\n",
      "Same distribution (fail to reject H0)\n",
      "\n",
      " GLCM X LBP_GLCM_HOG_3cells\n",
      "Statistics=12.000, p=0.114\n",
      "Same distribution (fail to reject H0)\n",
      "\n",
      " GLCM X LBP_HOG_2cells\n",
      "Statistics=12.000, p=0.114\n",
      "Same distribution (fail to reject H0)\n",
      "\n",
      " GLCM_HOG_2cells X GLCM_HOG_3cells\n",
      "Statistics=0.000, p=0.068\n",
      "Same distribution (fail to reject H0)\n",
      "\n",
      " GLCM_HOG_2cells X HOG_2cells\n",
      "Statistics=4.000, p=0.715\n",
      "Same distribution (fail to reject H0)\n",
      "\n",
      " GLCM_HOG_2cells X HOG_3cells\n",
      "Statistics=10.500, p=1.000\n",
      "Same distribution (fail to reject H0)\n",
      "\n",
      " GLCM_HOG_2cells X LBP\n",
      "Statistics=4.000, p=0.017\n",
      "Different distribution (reject H0)\n",
      "\n",
      " GLCM_HOG_2cells X LBP_GLCM\n",
      "Statistics=8.000, p=0.086\n",
      "Same distribution (fail to reject H0)\n",
      "\n",
      " GLCM_HOG_2cells X LBP_GLCM_HOG_2cells\n",
      "Statistics=0.000, p=0.180\n",
      "Same distribution (fail to reject H0)\n",
      "\n",
      " GLCM_HOG_2cells X LBP_GLCM_HOG_3cells\n",
      "Statistics=8.500, p=0.674\n",
      "Same distribution (fail to reject H0)\n",
      "\n",
      " GLCM_HOG_2cells X LBP_HOG_2cells\n",
      "Statistics=4.000, p=0.715\n",
      "Same distribution (fail to reject H0)\n",
      "\n",
      " GLCM_HOG_3cells X HOG_2cells\n",
      "Statistics=3.000, p=0.116\n",
      "Same distribution (fail to reject H0)\n",
      "\n",
      " GLCM_HOG_3cells X HOG_3cells\n",
      "Statistics=3.000, p=0.116\n",
      "Same distribution (fail to reject H0)\n",
      "\n",
      " GLCM_HOG_3cells X LBP\n",
      "Statistics=12.000, p=0.114\n",
      "Same distribution (fail to reject H0)\n",
      "\n",
      " GLCM_HOG_3cells X LBP_GLCM\n",
      "Statistics=18.000, p=0.594\n",
      "Same distribution (fail to reject H0)\n",
      "\n",
      " GLCM_HOG_3cells X LBP_GLCM_HOG_2cells\n",
      "Statistics=0.000, p=0.028\n",
      "Different distribution (reject H0)\n",
      "\n",
      " GLCM_HOG_3cells X LBP_GLCM_HOG_3cells\n",
      "Statistics=4.500, p=0.207\n",
      "Same distribution (fail to reject H0)\n",
      "\n",
      " GLCM_HOG_3cells X LBP_HOG_2cells\n",
      "Statistics=3.000, p=0.116\n",
      "Same distribution (fail to reject H0)\n",
      "\n",
      " HOG_2cells X HOG_3cells\n",
      "Statistics=4.500, p=0.854\n",
      "Same distribution (fail to reject H0)\n",
      "\n",
      " HOG_2cells X LBP\n",
      "Statistics=1.000, p=0.007\n",
      "Different distribution (reject H0)\n",
      "\n",
      " HOG_2cells X LBP_GLCM\n",
      "Statistics=10.000, p=0.074\n",
      "Same distribution (fail to reject H0)\n",
      "\n",
      " HOG_2cells X LBP_GLCM_HOG_2cells\n",
      "Statistics=0.000, p=0.068\n",
      "Same distribution (fail to reject H0)\n",
      "\n",
      " HOG_2cells X LBP_GLCM_HOG_3cells\n",
      "Statistics=9.500, p=0.833\n",
      "Same distribution (fail to reject H0)\n",
      "\n",
      " HOG_2cells X LBP_HOG_2cells\n",
      "Statistics=0.000, p=0.180\n",
      "Same distribution (fail to reject H0)\n",
      "\n",
      " HOG_3cells X LBP\n",
      "Statistics=1.000, p=0.011\n",
      "Different distribution (reject H0)\n",
      "\n",
      " HOG_3cells X LBP_GLCM\n",
      "Statistics=8.000, p=0.047\n",
      "Different distribution (reject H0)\n",
      "\n",
      " HOG_3cells X LBP_GLCM_HOG_2cells\n",
      "Statistics=5.500, p=0.293\n",
      "Same distribution (fail to reject H0)\n",
      "\n",
      " HOG_3cells X LBP_GLCM_HOG_3cells\n",
      "Statistics=5.000, p=0.500\n",
      "Same distribution (fail to reject H0)\n",
      "\n",
      " HOG_3cells X LBP_HOG_2cells\n",
      "Statistics=4.000, p=0.715\n",
      "Same distribution (fail to reject H0)\n",
      "\n",
      " LBP X LBP_GLCM\n",
      "Statistics=9.000, p=0.059\n",
      "Same distribution (fail to reject H0)\n",
      "\n",
      " LBP X LBP_GLCM_HOG_2cells\n",
      "Statistics=0.000, p=0.005\n",
      "Different distribution (reject H0)\n",
      "\n",
      " LBP X LBP_GLCM_HOG_3cells\n",
      "Statistics=3.000, p=0.013\n",
      "Different distribution (reject H0)\n",
      "\n",
      " LBP X LBP_HOG_2cells\n",
      "Statistics=1.000, p=0.007\n",
      "Different distribution (reject H0)\n",
      "\n",
      " LBP_GLCM X LBP_GLCM_HOG_2cells\n",
      "Statistics=8.000, p=0.047\n",
      "Different distribution (reject H0)\n",
      "\n",
      " LBP_GLCM X LBP_GLCM_HOG_3cells\n",
      "Statistics=10.000, p=0.139\n",
      "Same distribution (fail to reject H0)\n",
      "\n",
      " LBP_GLCM X LBP_HOG_2cells\n",
      "Statistics=9.000, p=0.059\n",
      "Same distribution (fail to reject H0)\n",
      "\n",
      " LBP_GLCM_HOG_2cells X LBP_GLCM_HOG_3cells\n",
      "Statistics=8.500, p=0.352\n",
      "Same distribution (fail to reject H0)\n",
      "\n",
      " LBP_GLCM_HOG_2cells X LBP_HOG_2cells\n",
      "Statistics=3.000, p=0.465\n",
      "Same distribution (fail to reject H0)\n",
      "\n",
      " LBP_GLCM_HOG_3cells X LBP_HOG_2cells\n",
      "Statistics=6.500, p=0.400\n",
      "Same distribution (fail to reject H0)\n"
     ]
    },
    {
     "name": "stderr",
     "output_type": "stream",
     "text": [
      "/usr/local/lib/python3.6/dist-packages/scipy/stats/morestats.py:2388: UserWarning: Warning: sample size too small for normal approximation.\n",
      "  warnings.warn(\"Warning: sample size too small for normal approximation.\")\n"
     ]
    }
   ],
   "source": [
    "for i in range(9):\n",
    "    for j in range(i+1,10):\n",
    "        print(\"\\n \" + data.iloc[i,0][:-4] + \" X \" + data.iloc[j,0][:-4]);\n",
    "        aux1=data.iloc[i,1:].values.astype('float32')\n",
    "        aux2=data.iloc[j,1:].values.astype('float32')\n",
    "        stat, p = wilcoxon(aux1, aux2)\n",
    "        print('Statistics=%.3f, p=%.3f' % (stat, p))\n",
    "        # interpret\n",
    "        alpha = 0.05\n",
    "        if p > alpha:\n",
    "            print('Same distribution (fail to reject H0)')\n",
    "        else:\n",
    "            print('Different distribution (reject H0)')"
   ]
  }
 ],
 "metadata": {
  "kernelspec": {
   "display_name": "Python 3",
   "language": "python",
   "name": "python3"
  },
  "language_info": {
   "codemirror_mode": {
    "name": "ipython",
    "version": 3
   },
   "file_extension": ".py",
   "mimetype": "text/x-python",
   "name": "python",
   "nbconvert_exporter": "python",
   "pygments_lexer": "ipython3",
   "version": "3.6.9"
  }
 },
 "nbformat": 4,
 "nbformat_minor": 2
}
