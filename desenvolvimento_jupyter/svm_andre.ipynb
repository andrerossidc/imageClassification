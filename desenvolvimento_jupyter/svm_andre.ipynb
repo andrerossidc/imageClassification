{
 "cells": [
  {
   "cell_type": "code",
   "execution_count": 1,
   "metadata": {},
   "outputs": [],
   "source": [
    "from sklearn import svm #Importando biblioteca da SVM\n",
    "from sklearn import metrics #Importando bibliotecas para avalicao da acuracia da tecnica usada"
   ]
  },
  {
   "cell_type": "code",
   "execution_count": 2,
   "metadata": {},
   "outputs": [],
   "source": [
    "def SVM(x_train, y_train, x_test, y_test, c, g, k):\n",
    "\n",
    "    SVM= svm.SVC(C=c, gamma=g, kernel=k) #Parametros basicos para SVM\n",
    "    SVM.fit(x_train, y_train) #Treinado a SVM\n",
    "    previsao= SVM.predict(x_test) #Testando a SVM\n",
    "\n",
    "    acuracia= metrics.accuracy_score(y_test, previsao) #Acuracia\n",
    "    acuracia_b= metrics.balanced_accuracy_score(y_test, previsao) #Acuracia balanceada\n",
    "    m_conf= metrics.confusion_matrix(y_test, previsao) #Matriz de confusao\n",
    "\n",
    "    return acuracia, acuracia_b, m_conf #Retornar a acuracia, auc, acuracia balanceada, matriz de confusao"
   ]
  }
 ],
 "metadata": {
  "kernelspec": {
   "display_name": "Python 3",
   "language": "python",
   "name": "python3"
  },
  "language_info": {
   "codemirror_mode": {
    "name": "ipython",
    "version": 3
   },
   "file_extension": ".py",
   "mimetype": "text/x-python",
   "name": "python",
   "nbconvert_exporter": "python",
   "pygments_lexer": "ipython3",
   "version": "3.7.1"
  }
 },
 "nbformat": 4,
 "nbformat_minor": 2
}
