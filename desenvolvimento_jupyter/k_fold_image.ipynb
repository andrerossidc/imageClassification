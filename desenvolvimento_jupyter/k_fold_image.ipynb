{
 "cells": [
  {
   "cell_type": "code",
   "execution_count": 124,
   "metadata": {},
   "outputs": [],
   "source": [
    "from os import listdir #Importando buscador de arquivos\n",
    "from PIL import Image as PImage #Biblioteca p/ extrair informações de imagens\n",
    "import numpy as np\n",
    "from sklearn.model_selection import KFold #Importando KFold Cross Validation"
   ]
  },
  {
   "cell_type": "code",
   "execution_count": 125,
   "metadata": {},
   "outputs": [],
   "source": [
    "imagesList = listdir(diretorio)\n",
    "imgName = []\n",
    "imgClass = []\n",
    "\n",
    "for image in imagesList:\n",
    "    imgName.append(image)\n",
    "    \n",
    "imgName.sort()\n",
    "\n",
    "for classe in imgName:\n",
    "    imgClass.append(classe[0])\n",
    "\n",
    "diretorio = \"/home/gustavo/Área de Trabalho/IC_andre/metodos_de_extracao_interface/images/\"\n",
    "\n",
    "x= imgName\n",
    "y= imgClass"
   ]
  },
  {
   "cell_type": "code",
   "execution_count": 126,
   "metadata": {},
   "outputs": [
    {
     "name": "stdout",
     "output_type": "stream",
     "text": [
      "['A001.bmp', 'A002.bmp', 'A003.bmp', 'A004.bmp', 'A005.bmp', 'A006.bmp', 'A007.bmp', 'A008.bmp', 'A009.bmp', 'A010.bmp', 'A011.bmp', 'A012.bmp', 'A013.bmp', 'A014.bmp', 'A015.bmp', 'A016.bmp', 'A017.bmp', 'A018.bmp', 'A019.bmp', 'A020.bmp', 'A021.bmp', 'A022.bmp', 'A023.bmp', 'A024.bmp', 'A025.bmp', 'A026.bmp', 'A027.bmp', 'A028.bmp', 'A029.bmp', 'A030.bmp', 'A031.bmp', 'A032.bmp', 'A033.bmp', 'A034.bmp', 'A035.bmp', 'A036.bmp', 'A037.bmp', 'A038.bmp', 'A039.bmp', 'A040.bmp', 'A041.bmp', 'A042.bmp', 'A043.bmp', 'A044.bmp', 'A045.bmp', 'A046.bmp', 'A047.bmp', 'A048.bmp', 'A049.bmp', 'A050.bmp', 'A051.bmp', 'A052.bmp', 'A053.bmp', 'A054.bmp', 'A055.bmp', 'A056.bmp', 'A057.bmp', 'A058.bmp', 'A059.bmp', 'A060.bmp', 'A061.bmp', 'A062.bmp', 'A063.bmp', 'A064.bmp', 'A065.bmp', 'A066.bmp', 'A067.bmp', 'A068.bmp', 'A069.bmp', 'A070.bmp', 'A071.bmp', 'A072.bmp', 'A073.bmp', 'A074.bmp', 'A075.bmp', 'A076.bmp', 'A077.bmp', 'A078.bmp', 'A079.bmp', 'A080.bmp', 'A081.bmp', 'A082.bmp', 'A083.bmp', 'A084.bmp', 'A085.bmp', 'A086.bmp', 'A087.bmp', 'A088.bmp', 'A089.bmp', 'A090.bmp', 'A091.bmp', 'A092.bmp', 'A093.bmp', 'A094.bmp', 'A095.bmp', 'A096.bmp', 'A097.bmp', 'A098.bmp', 'A099.bmp', 'A100.bmp', 'A101.bmp', 'A102.bmp', 'A103.bmp', 'A104.bmp', 'A105.bmp', 'A106.bmp', 'A107.bmp', 'A108.bmp', 'A109.bmp', 'A110.bmp', 'A111.bmp', 'A112.bmp', 'A113.bmp', 'A114.bmp', 'A115.bmp', 'A116.bmp', 'A117.bmp', 'A118.bmp', 'A119.bmp', 'A120.bmp', 'A121.bmp', 'A122.bmp', 'A123.bmp', 'A124.bmp', 'A125.bmp', 'A126.bmp', 'A127.bmp', 'A128.bmp', 'A129.bmp', 'A130.bmp', 'A131.bmp', 'A132.bmp', 'A133.bmp', 'A134.bmp', 'A135.bmp', 'A136.bmp', 'A137.bmp', 'A138.bmp', 'A139.bmp', 'A140.bmp', 'A141.bmp', 'A142.bmp', 'A143.bmp', 'A144.bmp', 'B001.bmp', 'B002.bmp', 'B003.bmp', 'B004.bmp', 'B005.bmp', 'B006.bmp', 'B007.bmp', 'B008.bmp', 'B009.bmp', 'B010.bmp', 'B011.bmp', 'B012.bmp', 'B013.bmp', 'B014.bmp', 'B015.bmp', 'B016.bmp', 'B017.bmp', 'B018.bmp', 'B019.bmp', 'B020.bmp', 'B021.bmp', 'B022.bmp', 'B023.bmp', 'B024.bmp', 'B025.bmp', 'B026.bmp', 'B027.bmp', 'B028.bmp', 'B029.bmp', 'B030.bmp', 'B031.bmp', 'B032.bmp', 'B033.bmp', 'B034.bmp', 'B035.bmp', 'B036.bmp', 'B037.bmp', 'B038.bmp', 'B039.bmp', 'B040.bmp', 'B041.bmp', 'B042.bmp', 'B043.bmp', 'B044.bmp', 'B045.bmp', 'B046.bmp', 'B047.bmp', 'B048.bmp', 'B049.bmp', 'B050.bmp', 'B051.bmp', 'B052.bmp', 'B053.bmp', 'B054.bmp', 'B055.bmp', 'B056.bmp', 'B057.bmp', 'B058.bmp', 'B059.bmp', 'B060.bmp', 'B061.bmp', 'B062.bmp', 'B063.bmp', 'B064.bmp', 'B065.bmp', 'B066.bmp', 'B067.bmp', 'B068.bmp', 'B069.bmp', 'B070.bmp', 'B071.bmp', 'B072.bmp', 'B073.bmp', 'B074.bmp', 'B075.bmp', 'B076.bmp', 'B077.bmp', 'B078.bmp', 'B079.bmp', 'B080.bmp', 'B081.bmp', 'B082.bmp', 'B083.bmp', 'B084.bmp', 'B085.bmp', 'B086.bmp', 'B087.bmp', 'B088.bmp', 'B089.bmp', 'B090.bmp', 'B091.bmp', 'B092.bmp', 'B093.bmp', 'B094.bmp', 'B095.bmp', 'B096.bmp', 'B097.bmp', 'B098.bmp', 'B099.bmp', 'B100.bmp', 'B101.bmp', 'B102.bmp', 'B103.bmp', 'B104.bmp', 'B105.bmp', 'B106.bmp', 'B107.bmp', 'B108.bmp', 'B109.bmp', 'B110.bmp', 'B111.bmp', 'B112.bmp', 'B113.bmp', 'B114.bmp', 'B115.bmp', 'B116.bmp', 'B117.bmp', 'B118.bmp', 'B119.bmp', 'B120.bmp', 'B121.bmp', 'B122.bmp', 'B123.bmp', 'B124.bmp', 'B125.bmp', 'B126.bmp', 'B127.bmp', 'B128.bmp', 'B129.bmp', 'B130.bmp', 'B131.bmp', 'B132.bmp', 'B133.bmp', 'B134.bmp', 'B135.bmp', 'B136.bmp', 'B137.bmp', 'B138.bmp', 'B139.bmp', 'B140.bmp', 'B141.bmp', 'B142.bmp', 'B143.bmp', 'B144.bmp', 'B145.bmp', 'B146.bmp', 'B147.bmp', 'B148.bmp', 'B149.bmp', 'B150.bmp', 'B151.bmp', 'B152.bmp', 'B153.bmp', 'B154.bmp', 'B155.bmp', 'B156.bmp', 'B157.bmp', 'B158.bmp', 'B159.bmp', 'B160.bmp', 'B161.bmp', 'B162.bmp', 'B163.bmp', 'B164.bmp', 'B165.bmp', 'B166.bmp', 'B167.bmp', 'B168.bmp', 'B169.bmp', 'B170.bmp', 'B171.bmp', 'B172.bmp', 'B173.bmp', 'B174.bmp', 'B175.bmp', 'B176.bmp', 'B177.bmp', 'C001.bmp', 'C002.bmp', 'C003.bmp', 'C004.bmp', 'C005.bmp', 'C006.bmp', 'C007.bmp', 'C008.bmp', 'C009.bmp', 'C010.bmp', 'C011.bmp', 'C012.bmp', 'C013.bmp', 'C014.bmp', 'C015.bmp', 'C016.bmp', 'C017.bmp', 'C018.bmp', 'C019.bmp', 'C020.bmp', 'C021.bmp', 'C022.bmp', 'C023.bmp', 'C024.bmp', 'C025.bmp', 'C026.bmp', 'C027.bmp', 'C028.bmp', 'C029.bmp', 'C030.bmp', 'C031.bmp', 'C032.bmp', 'C033.bmp', 'C034.bmp', 'C035.bmp', 'C036.bmp', 'C037.bmp', 'C038.bmp', 'C039.bmp', 'C040.bmp', 'C041.bmp', 'C042.bmp', 'C043.bmp', 'C044.bmp', 'C045.bmp', 'C046.bmp', 'C047.bmp', 'C048.bmp', 'C049.bmp', 'C050.bmp', 'C051.bmp', 'C052.bmp', 'C053.bmp'] ['A', 'A', 'A', 'A', 'A', 'A', 'A', 'A', 'A', 'A', 'A', 'A', 'A', 'A', 'A', 'A', 'A', 'A', 'A', 'A', 'A', 'A', 'A', 'A', 'A', 'A', 'A', 'A', 'A', 'A', 'A', 'A', 'A', 'A', 'A', 'A', 'A', 'A', 'A', 'A', 'A', 'A', 'A', 'A', 'A', 'A', 'A', 'A', 'A', 'A', 'A', 'A', 'A', 'A', 'A', 'A', 'A', 'A', 'A', 'A', 'A', 'A', 'A', 'A', 'A', 'A', 'A', 'A', 'A', 'A', 'A', 'A', 'A', 'A', 'A', 'A', 'A', 'A', 'A', 'A', 'A', 'A', 'A', 'A', 'A', 'A', 'A', 'A', 'A', 'A', 'A', 'A', 'A', 'A', 'A', 'A', 'A', 'A', 'A', 'A', 'A', 'A', 'A', 'A', 'A', 'A', 'A', 'A', 'A', 'A', 'A', 'A', 'A', 'A', 'A', 'A', 'A', 'A', 'A', 'A', 'A', 'A', 'A', 'A', 'A', 'A', 'A', 'A', 'A', 'A', 'A', 'A', 'A', 'A', 'A', 'A', 'A', 'A', 'A', 'A', 'A', 'A', 'A', 'A', 'B', 'B', 'B', 'B', 'B', 'B', 'B', 'B', 'B', 'B', 'B', 'B', 'B', 'B', 'B', 'B', 'B', 'B', 'B', 'B', 'B', 'B', 'B', 'B', 'B', 'B', 'B', 'B', 'B', 'B', 'B', 'B', 'B', 'B', 'B', 'B', 'B', 'B', 'B', 'B', 'B', 'B', 'B', 'B', 'B', 'B', 'B', 'B', 'B', 'B', 'B', 'B', 'B', 'B', 'B', 'B', 'B', 'B', 'B', 'B', 'B', 'B', 'B', 'B', 'B', 'B', 'B', 'B', 'B', 'B', 'B', 'B', 'B', 'B', 'B', 'B', 'B', 'B', 'B', 'B', 'B', 'B', 'B', 'B', 'B', 'B', 'B', 'B', 'B', 'B', 'B', 'B', 'B', 'B', 'B', 'B', 'B', 'B', 'B', 'B', 'B', 'B', 'B', 'B', 'B', 'B', 'B', 'B', 'B', 'B', 'B', 'B', 'B', 'B', 'B', 'B', 'B', 'B', 'B', 'B', 'B', 'B', 'B', 'B', 'B', 'B', 'B', 'B', 'B', 'B', 'B', 'B', 'B', 'B', 'B', 'B', 'B', 'B', 'B', 'B', 'B', 'B', 'B', 'B', 'B', 'B', 'B', 'B', 'B', 'B', 'B', 'B', 'B', 'B', 'B', 'B', 'B', 'B', 'B', 'B', 'B', 'B', 'B', 'B', 'B', 'B', 'B', 'B', 'B', 'B', 'B', 'B', 'B', 'B', 'B', 'B', 'B', 'C', 'C', 'C', 'C', 'C', 'C', 'C', 'C', 'C', 'C', 'C', 'C', 'C', 'C', 'C', 'C', 'C', 'C', 'C', 'C', 'C', 'C', 'C', 'C', 'C', 'C', 'C', 'C', 'C', 'C', 'C', 'C', 'C', 'C', 'C', 'C', 'C', 'C', 'C', 'C', 'C', 'C', 'C', 'C', 'C', 'C', 'C', 'C', 'C', 'C', 'C', 'C', 'C']\n"
     ]
    }
   ],
   "source": [
    "print(x,y)"
   ]
  },
  {
   "cell_type": "code",
   "execution_count": 149,
   "metadata": {},
   "outputs": [
    {
     "data": {
      "text/plain": [
       "10"
      ]
     },
     "execution_count": 149,
     "metadata": {},
     "output_type": "execute_result"
    }
   ],
   "source": [
    "KF = KFold(n_splits=10, random_state=13, shuffle=True)\n",
    "KF.get_n_splits(x)"
   ]
  },
  {
   "cell_type": "code",
   "execution_count": 150,
   "metadata": {},
   "outputs": [
    {
     "name": "stdout",
     "output_type": "stream",
     "text": [
      "<generator object _BaseKFold.split at 0x7f4c7242d2a0>\n"
     ]
    }
   ],
   "source": [
    "print(KF.split(x))"
   ]
  },
  {
   "cell_type": "code",
   "execution_count": 1,
   "metadata": {},
   "outputs": [
    {
     "ename": "NameError",
     "evalue": "name 'KF' is not defined",
     "output_type": "error",
     "traceback": [
      "\u001b[0;31m---------------------------------------------------------------------------\u001b[0m",
      "\u001b[0;31mNameError\u001b[0m                                 Traceback (most recent call last)",
      "\u001b[0;32m<ipython-input-1-9fe54429f519>\u001b[0m in \u001b[0;36m<module>\u001b[0;34m\u001b[0m\n\u001b[1;32m      2\u001b[0m \u001b[0mteste\u001b[0m\u001b[0;34m=\u001b[0m \u001b[0;34m[\u001b[0m\u001b[0;34m]\u001b[0m\u001b[0;34m\u001b[0m\u001b[0;34m\u001b[0m\u001b[0m\n\u001b[1;32m      3\u001b[0m \u001b[0;34m\u001b[0m\u001b[0m\n\u001b[0;32m----> 4\u001b[0;31m \u001b[0;32mfor\u001b[0m \u001b[0mtrain_index\u001b[0m\u001b[0;34m,\u001b[0m \u001b[0mtest_index\u001b[0m \u001b[0;32min\u001b[0m \u001b[0mKF\u001b[0m\u001b[0;34m.\u001b[0m\u001b[0msplit\u001b[0m\u001b[0;34m(\u001b[0m\u001b[0mx\u001b[0m\u001b[0;34m)\u001b[0m\u001b[0;34m:\u001b[0m\u001b[0;34m\u001b[0m\u001b[0;34m\u001b[0m\u001b[0m\n\u001b[0m\u001b[1;32m      5\u001b[0m     \u001b[0mtreino\u001b[0m\u001b[0;34m.\u001b[0m\u001b[0mappend\u001b[0m\u001b[0;34m(\u001b[0m\u001b[0mtrain_index\u001b[0m\u001b[0;34m)\u001b[0m \u001b[0;31m#Indices de treino\u001b[0m\u001b[0;34m\u001b[0m\u001b[0;34m\u001b[0m\u001b[0m\n\u001b[1;32m      6\u001b[0m     \u001b[0mteste\u001b[0m\u001b[0;34m.\u001b[0m\u001b[0mappend\u001b[0m\u001b[0;34m(\u001b[0m\u001b[0mtest_index\u001b[0m\u001b[0;34m)\u001b[0m \u001b[0;31m#Indices de teste\u001b[0m\u001b[0;34m\u001b[0m\u001b[0;34m\u001b[0m\u001b[0m\n",
      "\u001b[0;31mNameError\u001b[0m: name 'KF' is not defined"
     ]
    }
   ],
   "source": [
    "treino= []\n",
    "teste= []\n",
    "\n",
    "for train_index, test_index in KF.split(x):\n",
    "    treino.append(train_index) #Indices de treino\n",
    "    teste.append(test_index) #Indices de teste\n",
    "\n",
    "x[treino[0][0]]\n",
    "y[teste[0][0]]"
   ]
  },
  {
   "cell_type": "code",
   "execution_count": null,
   "metadata": {},
   "outputs": [],
   "source": []
  }
 ],
 "metadata": {
  "kernelspec": {
   "display_name": "Python 3",
   "language": "python",
   "name": "python3"
  },
  "language_info": {
   "codemirror_mode": {
    "name": "ipython",
    "version": 3
   },
   "file_extension": ".py",
   "mimetype": "text/x-python",
   "name": "python",
   "nbconvert_exporter": "python",
   "pygments_lexer": "ipython3",
   "version": "3.7.1"
  }
 },
 "nbformat": 4,
 "nbformat_minor": 2
}
