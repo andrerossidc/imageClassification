{
 "cells": [
  {
   "cell_type": "code",
   "execution_count": 16,
   "metadata": {},
   "outputs": [],
   "source": [
    "import pandas as pd\n",
    "from scipy.stats import friedmanchisquare\n",
    "import os"
   ]
  },
  {
   "cell_type": "code",
   "execution_count": 17,
   "metadata": {},
   "outputs": [
    {
     "name": "stdout",
     "output_type": "stream",
     "text": [
      "                 Unnamed: 0    fold_1    fold_2    fold_3    fold_4    fold_5  \\\n",
      "0                  GLCM.csv  0.867725  0.818627  0.750000  1.000000  0.733333   \n",
      "1       GLCM_HOG_2cells.csv  0.962963  1.000000  1.000000  0.785714  1.000000   \n",
      "2       GLCM_HOG_3cells.csv  0.962963  0.916667  1.000000  0.785714  1.000000   \n",
      "3            HOG_2cells.csv  0.939153  1.000000  1.000000  0.769841  1.000000   \n",
      "4            HOG_3cells.csv  0.915344  1.000000  1.000000  0.769841  1.000000   \n",
      "5                   LBP.csv  0.915344  0.627451  0.715507  0.787302  0.870370   \n",
      "6              LBP_GLCM.csv  0.888889  0.980392  0.750000  0.968254  0.733333   \n",
      "7   LBP_GLCM_HOG_2cells.csv  0.962963  1.000000  1.000000  0.801587  1.000000   \n",
      "8   LBP_GLCM_HOG_3cells.csv  0.851852  1.000000  0.916667  0.785714  1.000000   \n",
      "9        LBP_HOG_2cells.csv  0.952381  1.000000  1.000000  0.769841  1.000000   \n",
      "10       LBP_HOG_3cells.csv  0.915344  1.000000  1.000000  0.769841  1.000000   \n",
      "\n",
      "      fold_6    fold_7    fold_8    fold_9   fold_10  \n",
      "0   0.666667  0.714286  0.974359  0.966667  0.983333  \n",
      "1   0.986111  0.952381  0.952381  0.733333  1.000000  \n",
      "2   0.986111  0.932773  0.809524  0.733333  0.714286  \n",
      "3   0.986111  0.932773  0.952381  0.888889  1.000000  \n",
      "4   0.986111  0.932773  1.000000  0.905556  0.983333  \n",
      "5   0.633333  0.647059  0.825038  0.822222  0.766667  \n",
      "6   0.916667  0.761905  0.974359  0.733333  0.952381  \n",
      "7   0.986111  0.952381  0.952381  0.916667  1.000000  \n",
      "8   0.986111  0.932773  1.000000  0.983333  0.952381  \n",
      "9   0.986111  0.932773  0.952381  0.938889  1.000000  \n",
      "10  0.986111  0.932773  1.000000  0.933333  1.000000  \n"
     ]
    }
   ],
   "source": [
    "#data = pd.read_csv(os.getcwd()+\"/results/allFoldsBalancAcc.csv\")\n",
    "data = pd.read_csv(\"/home/alrossi/dados/GDrive/Research/codePython/imageClassification/results/allFoldsBalancAcc.csv\")\n",
    "print(data)"
   ]
  },
  {
   "cell_type": "code",
   "execution_count": 18,
   "metadata": {},
   "outputs": [
    {
     "data": {
      "text/plain": [
       "10"
      ]
     },
     "execution_count": 18,
     "metadata": {},
     "output_type": "execute_result"
    }
   ],
   "source": [
    "aux = []\n",
    "for i in range(10):\n",
    "    aux.append(data.iloc[i,1:].values.astype('float32'))\n",
    "\n",
    "len(aux)"
   ]
  },
  {
   "cell_type": "code",
   "execution_count": 19,
   "metadata": {},
   "outputs": [],
   "source": [
    "stat, p = friedmanchisquare(aux[1], aux[2], aux[3], aux[4], aux[5], aux[6], aux[7], aux[8], aux[9])"
   ]
  },
  {
   "cell_type": "code",
   "execution_count": 20,
   "metadata": {},
   "outputs": [
    {
     "name": "stdout",
     "output_type": "stream",
     "text": [
      "Statistics=25.862, p=0.001\n"
     ]
    }
   ],
   "source": [
    "print('Statistics=%.3f, p=%.3f' % (stat, p))"
   ]
  },
  {
   "cell_type": "code",
   "execution_count": null,
   "metadata": {},
   "outputs": [],
   "source": [
    "https://github.com/maximtrp/scikit-posthocs"
   ]
  }
 ],
 "metadata": {
  "kernelspec": {
   "display_name": "Python 3",
   "language": "python",
   "name": "python3"
  },
  "language_info": {
   "codemirror_mode": {
    "name": "ipython",
    "version": 3
   },
   "file_extension": ".py",
   "mimetype": "text/x-python",
   "name": "python",
   "nbconvert_exporter": "python",
   "pygments_lexer": "ipython3",
   "version": "3.6.9"
  }
 },
 "nbformat": 4,
 "nbformat_minor": 2
}
