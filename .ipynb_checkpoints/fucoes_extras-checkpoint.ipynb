{
 "cells": [
  {
   "cell_type": "code",
   "execution_count": 4,
   "metadata": {},
   "outputs": [],
   "source": [
    "import matplotlib.pyplot as plt\n",
    "import numpy as np"
   ]
  },
  {
   "cell_type": "code",
   "execution_count": 5,
   "metadata": {},
   "outputs": [],
   "source": [
    "def grafico(media_SVM, des_SVM, media_RNA, des_RNA, extractor_name, y_label):\n",
    "    n_cd= 2 #Numero de casas decimais na label\n",
    "\n",
    "    ind = np.arange(len(media_SVM))  # the x locations for the groups\n",
    "    width = 0.35  # the width of the bars\n",
    "\n",
    "    fig, ax = plt.subplots()\n",
    "    rects1 = ax.bar(ind - width/2, np.round(media_SVM,n_cd), width, yerr=np.round(des_SVM,n_cd),\n",
    "                    color='SkyBlue', label='SVM')\n",
    "    rects2 = ax.bar(ind + width/2, np.round(media_RNA,n_cd), width, yerr=np.round(des_RNA,n_cd),\n",
    "                    color='IndianRed', label='RNA')\n",
    "\n",
    "    # Add some text for labels, title and custom x-axis tick labels, etc.\n",
    "    ax.set_ylabel(y_label)\n",
    "    ax.set_title('Desempenhos')\n",
    "    ax.set_xticks(ind)\n",
    "    ax.set_xticklabels(extractor_name)\n",
    "    ax.legend()\n",
    "\n",
    "\n",
    "    def autolabel(rects, xpos='center'):\n",
    "        \"\"\"\n",
    "        Attach a text label above each bar in *rects*, displaying its height.\n",
    "\n",
    "        *xpos* indicates which side to place the text w.r.t. the center of\n",
    "        the bar. It can be one of the following {'center', 'right', 'left'}.\n",
    "        \"\"\"\n",
    "\n",
    "        xpos = xpos.lower()  # normalize the case of the parameter\n",
    "        ha = {'center': 'center', 'right': 'left', 'left': 'right'}\n",
    "        offset = {'center': 0.5, 'right': 0.57, 'left': 0.43}  # x_txt = x + w*off\n",
    "\n",
    "        for rect in rects:\n",
    "            height = rect.get_height()\n",
    "            ax.text(rect.get_x() + rect.get_width()*offset[xpos], 1.01*height,\n",
    "                    '{}'.format(height), ha=ha[xpos], va='bottom')\n",
    "\n",
    "\n",
    "    autolabel(rects1, \"left\")\n",
    "    autolabel(rects2, \"right\")\n",
    "    \n",
    "    plt.setp(ax.get_xticklabels(), rotation=30, ha=\"right\")\n",
    "    plt.show()"
   ]
  },
  {
   "cell_type": "code",
   "execution_count": 6,
   "metadata": {},
   "outputs": [],
   "source": [
    "def imprime_matriz(matriz):\n",
    "\n",
    "    linhas = len(matriz)\n",
    "    colunas = len(matriz[0])\n",
    "\n",
    "    for i in range(linhas):\n",
    "        for j in range(colunas):\n",
    "            if(j == colunas - 1):\n",
    "                print(\"%d\" %matriz[i][j])\n",
    "            else:\n",
    "                print(\"%d\" %matriz[i][j], end = \"\\t\")\n",
    "    print()"
   ]
  }
 ],
 "metadata": {
  "kernelspec": {
   "display_name": "Python 3",
   "language": "python",
   "name": "python3"
  },
  "language_info": {
   "codemirror_mode": {
    "name": "ipython",
    "version": 3
   },
   "file_extension": ".py",
   "mimetype": "text/x-python",
   "name": "python",
   "nbconvert_exporter": "python",
   "pygments_lexer": "ipython3",
   "version": "3.7.1"
  }
 },
 "nbformat": 4,
 "nbformat_minor": 2
}
