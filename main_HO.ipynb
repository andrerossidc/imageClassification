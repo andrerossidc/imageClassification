{
 "cells": [
  {
   "cell_type": "code",
   "execution_count": null,
   "metadata": {},
   "outputs": [],
   "source": [
    "import os, fucoes_extras #Funcoes de diretorio e funcoes extras\n",
    "from sklearn.model_selection import train_test_split #Importando Hold-out\n",
    "import pandas as pd #Importando o pandas (leitor e escritor de arquivos)\n",
    "from numpy import genfromtxt #Leitor de .csv e conversor p/ array numpy\n",
    "from os import listdir #Importando buscador de arquivos\n",
    "from machine_learn import svm_andre, rna_mlp #Importando SVM e RNA\n",
    "import statistics\n",
    "import numpy as np"
   ]
  },
  {
   "cell_type": "code",
   "execution_count": null,
   "metadata": {},
   "outputs": [],
   "source": [
    "diretorio= os.getcwd()+\"/dados_csv/\" #Busca o diretorio automaticamente\n",
    "\n",
    "#Parametros p/ SVM\n",
    "C= 1.0\n",
    "gamma= 'auto'\n",
    "kernel= 'rbf'\n",
    "\n",
    "#Parametros p/ RNA\n",
    "max_iter=300\n",
    "hidden_layer_sizes= (100,100) #Testar (50, 50) e (100, 100)\n",
    "learning_rate= 'constant'\n",
    "learning_rate_init= 0.01"
   ]
  },
  {
   "cell_type": "code",
   "execution_count": null,
   "metadata": {},
   "outputs": [],
   "source": [
    "acur_RNA= []\n",
    "acur_SVM= []\n",
    "\n",
    "acurB_RNA= []\n",
    "acurB_SVM= []\n",
    "\n",
    "matrizC_RNA= []\n",
    "matrizC_SVM= []\n",
    "\n",
    "media_SVM= []\n",
    "des_SVM= []\n",
    "media_RNA= []\n",
    "des_RNA= []\n",
    "\n",
    "mediaB_SVM= []\n",
    "desB_SVM= []\n",
    "mediaB_RNA= []\n",
    "desB_RNA= []\n",
    "\n",
    "matrizC_R= []\n",
    "matrizC_S= []\n",
    "\n",
    "extractor_name= []"
   ]
  },
  {
   "cell_type": "code",
   "execution_count": null,
   "metadata": {},
   "outputs": [],
   "source": [
    "for nome in listdir(diretorio):\n",
    "    dados= genfromtxt((diretorio+nome), delimiter=',',skip_header=1)\n",
    "\n",
    "    classCol = dados.shape[1] - 1\n",
    "    y = dados[:,classCol]\n",
    "    x = dados[:, :(classCol-1)]\n",
    "    \n",
    "    x_train, x_test, y_train, y_test = train_test_split( x, y, test_size=0.25, \n",
    "                                                        random_state=1234, stratify=y) #Hold-out\n",
    "    \n",
    "    datas = x_train, x_test, y_train, y_test\n",
    "    HO_data = pd.DataFrame(np.array(datas)) #Lendo os valores p/ exportacao em .csv\n",
    "    HO_data.to_csv('hold_out_data.csv') #Salvando em .csv\n",
    "        \n",
    "    #Treinando e avaliando o desempenho da SVM\n",
    "    S= svm_andre.SVM(x_train, y_train, x_test, y_test, C, gamma, kernel)\n",
    "    acur_SVM.append(S[0]) #Lista de acuracias\n",
    "    acurB_SVM.append(S[1]) #Lista de acuracias balanceadas\n",
    "    matrizC_SVM.append(S[2]) #Lista de matrizes de confusao\n",
    "    \n",
    "    #Treinando e avaliando o desempenho da RNA\n",
    "    R= rna_mlp.RNAs(x_train, y_train, x_test, y_test, learning_rate_init,\n",
    "                    learning_rate, hidden_layer_sizes, max_iter)\n",
    "    acur_RNA.append(R[0]) #Lista de acuracias\n",
    "    acurB_RNA.append(R[1]) #Lista de acuracias balanceadas\n",
    "    matrizC_RNA.append(R[2]) #Lista de matrizes de confusao\n",
    "    \n",
    "    extractor_name.append(nome[:-4])"
   ]
  },
  {
   "cell_type": "code",
   "execution_count": null,
   "metadata": {
    "scrolled": false
   },
   "outputs": [],
   "source": [
    "#print(\"Matrizes de confusao:\\n\")\n",
    "\n",
    "fs = open(os.getcwd()+\"/results/matrix_svm.txt\", \"w\")\n",
    "fr = open(os.getcwd()+\"/results/matrix_rna.txt\", \"w\")\n",
    "\n",
    "for i in range(0,len(extractor_name)):\n",
    "    fs.writelines(\"\\n **\" + extractor_name[i] + \"**\\n\")\n",
    "    fs.write(\"%s\\n\" % matrizC_SVM[i])\n",
    "    fr.writelines(\"\\n **\" + extractor_name[i] + \"**\\n\")\n",
    "    fr.write(\"%s\\n\" % matrizC_RNA[i])\n",
    "    \n",
    "fs.close()\n",
    "fr.close()\n",
    "\n",
    "print(\"Resultados graficos:\")\n",
    "fucoes_extras.grafico(acur_SVM, 0, acur_RNA, 0, extractor_name, \"Acuracia\", \"acc\")\n",
    "fucoes_extras.grafico(acurB_SVM, 0, acurB_RNA, 0, extractor_name, \"Acuracia balanceada\", \"bac\")"
   ]
  },
  {
   "cell_type": "code",
   "execution_count": null,
   "metadata": {},
   "outputs": [],
   "source": []
  },
  {
   "cell_type": "code",
   "execution_count": null,
   "metadata": {},
   "outputs": [],
   "source": []
  }
 ],
 "metadata": {
  "kernelspec": {
   "display_name": "Python 3",
   "language": "python",
   "name": "python3"
  },
  "language_info": {
   "codemirror_mode": {
    "name": "ipython",
    "version": 3
   },
   "file_extension": ".py",
   "mimetype": "text/x-python",
   "name": "python",
   "nbconvert_exporter": "python",
   "pygments_lexer": "ipython3",
   "version": "3.6.2"
  }
 },
 "nbformat": 4,
 "nbformat_minor": 2
}
