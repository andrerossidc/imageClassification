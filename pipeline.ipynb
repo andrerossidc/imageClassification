{
 "cells": [
  {
   "cell_type": "code",
   "execution_count": 1,
   "metadata": {},
   "outputs": [],
   "source": [
    "import os\n",
    "import numpy as np\n",
    "import pandas as pd\n",
    "from PIL import Image\n",
    "import weights_visualize as wv # weights visualization from RBM trained\n",
    "from GBRBM import GBRBM # Gaussian-Binary RBM \n",
    "from sklearn import svm #SVM\n",
    "from sklearn.neural_network import MLPClassifier #RNA-MLP\n",
    "from sklearn import metrics\n",
    "import matplotlib.pyplot as plt\n",
    "np.random.seed(1)\n",
    "path0 = os.getcwd()\n",
    "# TODO: IMPORT SVM AND RNA FROM .py FILE, THEN REMOVE THE PRESENT CODE ON THIS NOTEBOOK!"
   ]
  },
  {
   "cell_type": "code",
   "execution_count": 2,
   "metadata": {},
   "outputs": [],
   "source": [
    "def banco():\n",
    "    # A 409, B 354, C 216 # TOTAL IMAGES AUGMENTED    \n",
    "    os.chdir(path0)\n",
    "    x_train = pd.read_csv(\"images_real.csv\") # the file must be in notebook's folder\n",
    "    x_train = np.array(x_train)[:,1:]\n",
    "    \n",
    "    for i in range(x_train.shape[1]):\n",
    "        x_train[:,i] = (x_train[:,i] - np.mean(x_train[:,i])) / np.std(x_train[:,i]) # NORMALIZE to 0 mean and 1 std\n",
    "\n",
    "    aux = np.ones((979))\n",
    "    for z in range(979):\n",
    "        if(z>=0 and z<=408):\n",
    "            aux[z] = 0\n",
    "        else:\n",
    "            if(z>=409 and z<=763):\n",
    "                aux[z] = 1\n",
    "            else:\n",
    "                aux[z] = 2\n",
    "    aux = aux.astype(int)\n",
    "    y_train = np.array(aux)\n",
    "    y_train = aux.reshape((y_train.shape[0], 1))\n",
    "    todos = np.concatenate((x_train, y_train), axis = 1)\n",
    "    np.random.shuffle(todos) # shuffle data\n",
    "    t = int(x_train.shape[0]*.2) # 20% of data for test\n",
    "    x_train = todos[t:,:2538]\n",
    "    y_train = todos[t:,2538]\n",
    "    x_test = todos[:t,:2538]\n",
    "    y_test = todos[:t,2538]\n",
    "    return x_train, y_train, x_test, y_test"
   ]
  },
  {
   "cell_type": "code",
   "execution_count": 3,
   "metadata": {},
   "outputs": [],
   "source": [
    "####################################\n",
    "# LOAD DATA AND SET RBM PARAMETERS #\n",
    "####################################\n",
    "x_train, y_train, x_test, y_test = banco()\n",
    "\n",
    "nvis = x_train.shape[1] # visible neurons (input layer) #\n",
    "nhid = 60 # hidden neurons (latent ones) #\n",
    "epoch = 200 # 200-500 epochs is good to convergence #\n",
    "l_rate = 0.01 # learning rate #\n",
    "k = 1 #sampling steps for alucinate data # "
   ]
  },
  {
   "cell_type": "code",
   "execution_count": 4,
   "metadata": {},
   "outputs": [],
   "source": [
    "def SVM(x_train, y_train, x_test, y_test):\n",
    "\n",
    "    SVM = svm.SVC(C=100, gamma = 'scale')#, gamma=g, kernel=k) \n",
    "    SVM.fit(x_train, y_train) \n",
    "    previsao = SVM.predict(x_test) \n",
    "    acuracia= metrics.accuracy_score(y_test, previsao) \n",
    "    acuracia_b= metrics.balanced_accuracy_score(y_test, previsao)\n",
    "    m_conf= metrics.confusion_matrix(y_test, previsao) \n",
    "\n",
    "    return acuracia, acuracia_b, m_conf\n",
    "\n",
    "def RNAs(x_train, y_train, x_test, y_test, lri = float(0.01), lr = 'constant', hls=(100), mi=(400)):\n",
    "\n",
    "    RNA= MLPClassifier(hidden_layer_sizes=hls, max_iter=mi, learning_rate=lr,learning_rate_init=lri) \n",
    "    RNA.fit(x_train, y_train) \n",
    "    previsao= RNA.predict(x_test)\n",
    "\n",
    "    acuracia= metrics.accuracy_score(y_test, previsao) \n",
    "    acuracia_b= metrics.balanced_accuracy_score(y_test, previsao) \n",
    "    m_conf= metrics.confusion_matrix(y_test, previsao) \n",
    "\n",
    "    return acuracia, acuracia_b, m_conf"
   ]
  },
  {
   "cell_type": "code",
   "execution_count": 5,
   "metadata": {
    "scrolled": false
   },
   "outputs": [
    {
     "name": "stdout",
     "output_type": "stream",
     "text": [
      "Epoch :0, Reconstruction Error :1664.0372\n",
      "Epoch :100, Reconstruction Error :40.0842\n",
      "Acurácias Balanceadas [0.77]\n",
      "Média Acurácias 0.77\n",
      "Acurácias Balanceadas [0.77]\n",
      "Média Acurácias 0.77\n"
     ]
    }
   ],
   "source": [
    "rep = 1 # number of repetitions\n",
    "acc = np.zeros((rep))\n",
    "bac = np.zeros((rep))\n",
    "conf = np.zeros((rep))\n",
    "acc2 = np.zeros((rep))\n",
    "bac2 = np.zeros((rep))\n",
    "for i in range(0,rep):\n",
    "    np.random.seed(i)\n",
    "    \n",
    "    #x_train, y_train, x_test, y_test = banco()\n",
    "    # GBRBM creation with adaptative temperature (True state) # \n",
    "    rbm = GBRBM(nhid, nvis, epoch, 20, l_rate , k, x_train, True, i) # Shift + Tab for see input parameters #\n",
    "    w8, a, b = rbm.fit(x_train)\n",
    "    teste = rbm.sigmoid(np.matmul(x_train, w8) + np.mean(rbm.b, axis = 0))    \n",
    "    teste2 = rbm.sigmoid(np.matmul(x_test, w8) + np.mean(rbm.b, axis = 0))\n",
    "    \n",
    "    acc[i], bac[i], _ = SVM(teste, y_train, teste2, y_test)\n",
    "    acc2[i], bac2[i], _ = RNAs(teste, y_train, teste2, y_test)\n",
    "    \n",
    "print(\"Acurácias Balanceadas-SVM\", np.round(bac, 2))\n",
    "print(\"Média Acurácias-SVM\", np.round(np.mean(bac),2))\n",
    "\n",
    "print(\"Acurácias Balanceadas-RNAs\", np.round(bac2, 2))\n",
    "print(\"Média Acurácias-RNAs\", np.round(np.mean(bac2),2))"
   ]
  },
  {
   "cell_type": "code",
   "execution_count": 6,
   "metadata": {},
   "outputs": [],
   "source": [
    "\"\"\"\"\"\"\"\"\"\n",
    "SHOWS THE WEIGHT MATRIX FOR IMAGE PATTERN RECOGNITION\n",
    "\"\"\"\"\"\"\"\"\"\n",
    "image = Image.fromarray(wv.tile_raster_images(X = w8.T,img_shape=(27, 94), tile_shape=(8,8),tile_spacing=(1,1)))\n",
    "image = image.resize((500, 500))\n",
    "image.show()"
   ]
  }
 ],
 "metadata": {
  "kernelspec": {
   "display_name": "Python 3",
   "language": "python",
   "name": "python3"
  },
  "language_info": {
   "codemirror_mode": {
    "name": "ipython",
    "version": 3
   },
   "file_extension": ".py",
   "mimetype": "text/x-python",
   "name": "python",
   "nbconvert_exporter": "python",
   "pygments_lexer": "ipython3",
   "version": "3.6.8"
  }
 },
 "nbformat": 4,
 "nbformat_minor": 2
}
